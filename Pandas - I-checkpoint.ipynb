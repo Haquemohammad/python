{
 "cells": [
  {
   "cell_type": "code",
   "execution_count": 1,
   "id": "0ca783fe",
   "metadata": {},
   "outputs": [],
   "source": [
    "import pandas as pd"
   ]
  },
  {
   "cell_type": "code",
   "execution_count": null,
   "id": "e052b783",
   "metadata": {},
   "outputs": [],
   "source": [
    "csv ---> comma separated values"
   ]
  },
  {
   "cell_type": "code",
   "execution_count": 3,
   "id": "9e41549a",
   "metadata": {},
   "outputs": [],
   "source": [
    "df = pd.read_csv('test.csv')  # csv file ipynb same dir "
   ]
  },
  {
   "cell_type": "code",
   "execution_count": 4,
   "id": "84a5f710",
   "metadata": {},
   "outputs": [
    {
     "data": {
      "text/html": [
       "<div>\n",
       "<style scoped>\n",
       "    .dataframe tbody tr th:only-of-type {\n",
       "        vertical-align: middle;\n",
       "    }\n",
       "\n",
       "    .dataframe tbody tr th {\n",
       "        vertical-align: top;\n",
       "    }\n",
       "\n",
       "    .dataframe thead th {\n",
       "        text-align: right;\n",
       "    }\n",
       "</style>\n",
       "<table border=\"1\" class=\"dataframe\">\n",
       "  <thead>\n",
       "    <tr style=\"text-align: right;\">\n",
       "      <th></th>\n",
       "      <th>name</th>\n",
       "      <th>age</th>\n",
       "      <th>sal</th>\n",
       "    </tr>\n",
       "  </thead>\n",
       "  <tbody>\n",
       "    <tr>\n",
       "      <th>0</th>\n",
       "      <td>xyz</td>\n",
       "      <td>26</td>\n",
       "      <td>7555</td>\n",
       "    </tr>\n",
       "    <tr>\n",
       "      <th>1</th>\n",
       "      <td>pqr</td>\n",
       "      <td>97</td>\n",
       "      <td>161616</td>\n",
       "    </tr>\n",
       "    <tr>\n",
       "      <th>2</th>\n",
       "      <td>abc</td>\n",
       "      <td>26</td>\n",
       "      <td>1641964</td>\n",
       "    </tr>\n",
       "  </tbody>\n",
       "</table>\n",
       "</div>"
      ],
      "text/plain": [
       "  name  age      sal\n",
       "0  xyz   26     7555\n",
       "1  pqr   97   161616\n",
       "2  abc   26  1641964"
      ]
     },
     "execution_count": 4,
     "metadata": {},
     "output_type": "execute_result"
    }
   ],
   "source": [
    "df"
   ]
  },
  {
   "cell_type": "code",
   "execution_count": 5,
   "id": "a48d92b9",
   "metadata": {},
   "outputs": [
    {
     "data": {
      "text/plain": [
       "pandas.core.frame.DataFrame"
      ]
     },
     "execution_count": 5,
     "metadata": {},
     "output_type": "execute_result"
    }
   ],
   "source": [
    "type(df)"
   ]
  },
  {
   "cell_type": "code",
   "execution_count": 7,
   "id": "9aaeaf26",
   "metadata": {},
   "outputs": [
    {
     "data": {
      "text/plain": [
       "pandas.core.series.Series"
      ]
     },
     "execution_count": 7,
     "metadata": {},
     "output_type": "execute_result"
    }
   ],
   "source": [
    "type(df['name'])"
   ]
  },
  {
   "cell_type": "code",
   "execution_count": null,
   "id": "5f149d2e",
   "metadata": {},
   "outputs": [],
   "source": [
    "Series|Series|"
   ]
  },
  {
   "cell_type": "code",
   "execution_count": null,
   "id": "88393861",
   "metadata": {},
   "outputs": [],
   "source": []
  },
  {
   "cell_type": "code",
   "execution_count": 8,
   "id": "fbc95761",
   "metadata": {},
   "outputs": [],
   "source": [
    "df1 = pd.read_csv(r\"C:\\Users\\kanti\\OneDrive\\Pictures\\test.csv\")"
   ]
  },
  {
   "cell_type": "code",
   "execution_count": 9,
   "id": "476bc1d5",
   "metadata": {},
   "outputs": [
    {
     "data": {
      "text/html": [
       "<div>\n",
       "<style scoped>\n",
       "    .dataframe tbody tr th:only-of-type {\n",
       "        vertical-align: middle;\n",
       "    }\n",
       "\n",
       "    .dataframe tbody tr th {\n",
       "        vertical-align: top;\n",
       "    }\n",
       "\n",
       "    .dataframe thead th {\n",
       "        text-align: right;\n",
       "    }\n",
       "</style>\n",
       "<table border=\"1\" class=\"dataframe\">\n",
       "  <thead>\n",
       "    <tr style=\"text-align: right;\">\n",
       "      <th></th>\n",
       "      <th>name</th>\n",
       "      <th>age</th>\n",
       "      <th>sal</th>\n",
       "    </tr>\n",
       "  </thead>\n",
       "  <tbody>\n",
       "    <tr>\n",
       "      <th>0</th>\n",
       "      <td>xyz</td>\n",
       "      <td>26</td>\n",
       "      <td>7555</td>\n",
       "    </tr>\n",
       "    <tr>\n",
       "      <th>1</th>\n",
       "      <td>pqr</td>\n",
       "      <td>97</td>\n",
       "      <td>161616</td>\n",
       "    </tr>\n",
       "    <tr>\n",
       "      <th>2</th>\n",
       "      <td>abc</td>\n",
       "      <td>26</td>\n",
       "      <td>1641964</td>\n",
       "    </tr>\n",
       "  </tbody>\n",
       "</table>\n",
       "</div>"
      ],
      "text/plain": [
       "  name  age      sal\n",
       "0  xyz   26     7555\n",
       "1  pqr   97   161616\n",
       "2  abc   26  1641964"
      ]
     },
     "execution_count": 9,
     "metadata": {},
     "output_type": "execute_result"
    }
   ],
   "source": [
    "df1"
   ]
  },
  {
   "cell_type": "code",
   "execution_count": 16,
   "id": "7e0d5ec0",
   "metadata": {},
   "outputs": [],
   "source": [
    "df2 = pd.read_excel('test.xlsx',sheet_name='copper')"
   ]
  },
  {
   "cell_type": "code",
   "execution_count": 17,
   "id": "dda62532",
   "metadata": {},
   "outputs": [
    {
     "data": {
      "text/html": [
       "<div>\n",
       "<style scoped>\n",
       "    .dataframe tbody tr th:only-of-type {\n",
       "        vertical-align: middle;\n",
       "    }\n",
       "\n",
       "    .dataframe tbody tr th {\n",
       "        vertical-align: top;\n",
       "    }\n",
       "\n",
       "    .dataframe thead th {\n",
       "        text-align: right;\n",
       "    }\n",
       "</style>\n",
       "<table border=\"1\" class=\"dataframe\">\n",
       "  <thead>\n",
       "    <tr style=\"text-align: right;\">\n",
       "      <th></th>\n",
       "      <th>cooper type</th>\n",
       "      <th>price</th>\n",
       "    </tr>\n",
       "  </thead>\n",
       "  <tbody>\n",
       "    <tr>\n",
       "      <th>0</th>\n",
       "      <td>sdf</td>\n",
       "      <td>5467</td>\n",
       "    </tr>\n",
       "    <tr>\n",
       "      <th>1</th>\n",
       "      <td>sdf</td>\n",
       "      <td>56765</td>\n",
       "    </tr>\n",
       "    <tr>\n",
       "      <th>2</th>\n",
       "      <td>sdf</td>\n",
       "      <td>756</td>\n",
       "    </tr>\n",
       "    <tr>\n",
       "      <th>3</th>\n",
       "      <td>sdfgh</td>\n",
       "      <td>765</td>\n",
       "    </tr>\n",
       "    <tr>\n",
       "      <th>4</th>\n",
       "      <td>dfh</td>\n",
       "      <td>756</td>\n",
       "    </tr>\n",
       "    <tr>\n",
       "      <th>5</th>\n",
       "      <td>dsfg</td>\n",
       "      <td>756</td>\n",
       "    </tr>\n",
       "    <tr>\n",
       "      <th>6</th>\n",
       "      <td>sdfgh</td>\n",
       "      <td>7</td>\n",
       "    </tr>\n",
       "  </tbody>\n",
       "</table>\n",
       "</div>"
      ],
      "text/plain": [
       "  cooper type  price\n",
       "0         sdf   5467\n",
       "1         sdf  56765\n",
       "2         sdf    756\n",
       "3       sdfgh    765\n",
       "4         dfh    756\n",
       "5        dsfg    756\n",
       "6       sdfgh      7"
      ]
     },
     "execution_count": 17,
     "metadata": {},
     "output_type": "execute_result"
    }
   ],
   "source": [
    "df2"
   ]
  },
  {
   "cell_type": "code",
   "execution_count": 18,
   "id": "d49b9718",
   "metadata": {},
   "outputs": [],
   "source": [
    "df2['test'] = 450"
   ]
  },
  {
   "cell_type": "code",
   "execution_count": 21,
   "id": "6cb86ede",
   "metadata": {},
   "outputs": [],
   "source": [
    "df2.to_excel('test123.xlsx')"
   ]
  },
  {
   "cell_type": "code",
   "execution_count": 24,
   "id": "300e91fc",
   "metadata": {},
   "outputs": [],
   "source": [
    "df2.to_html('test.html')"
   ]
  },
  {
   "cell_type": "code",
   "execution_count": 25,
   "id": "b52567a7",
   "metadata": {},
   "outputs": [
    {
     "data": {
      "text/plain": [
       "'{\"cooper type\":{\"0\":\"sdf\",\"1\":\"sdf\",\"2\":\"sdf\",\"3\":\"sdfgh\",\"4\":\"dfh\",\"5\":\"dsfg\",\"6\":\"sdfgh\"},\"price\":{\"0\":5467,\"1\":56765,\"2\":756,\"3\":765,\"4\":756,\"5\":756,\"6\":7},\"test\":{\"0\":450,\"1\":450,\"2\":450,\"3\":450,\"4\":450,\"5\":450,\"6\":450}}'"
      ]
     },
     "execution_count": 25,
     "metadata": {},
     "output_type": "execute_result"
    }
   ],
   "source": [
    "df2.to_json()"
   ]
  },
  {
   "cell_type": "code",
   "execution_count": 28,
   "id": "80455e4c",
   "metadata": {},
   "outputs": [
    {
     "data": {
      "text/plain": [
       "numpy.ndarray"
      ]
     },
     "execution_count": 28,
     "metadata": {},
     "output_type": "execute_result"
    }
   ],
   "source": [
    "type(df2.to_numpy())"
   ]
  },
  {
   "cell_type": "code",
   "execution_count": null,
   "id": "e134a704",
   "metadata": {},
   "outputs": [],
   "source": [
    "csv and excel data read \n",
    "\n"
   ]
  },
  {
   "cell_type": "code",
   "execution_count": 38,
   "id": "197c3a95",
   "metadata": {},
   "outputs": [],
   "source": [
    "df4 = pd.read_html('https://en.wikipedia.org/wiki/COVID-19_pandemic_by_country_and_territory')"
   ]
  },
  {
   "cell_type": "code",
   "execution_count": 39,
   "id": "366b0853",
   "metadata": {},
   "outputs": [
    {
     "data": {
      "text/plain": [
       "list"
      ]
     },
     "execution_count": 39,
     "metadata": {},
     "output_type": "execute_result"
    }
   ],
   "source": [
    "type(df4)"
   ]
  },
  {
   "cell_type": "code",
   "execution_count": 40,
   "id": "bf3c2ec0",
   "metadata": {},
   "outputs": [
    {
     "data": {
      "text/html": [
       "<div>\n",
       "<style scoped>\n",
       "    .dataframe tbody tr th:only-of-type {\n",
       "        vertical-align: middle;\n",
       "    }\n",
       "\n",
       "    .dataframe tbody tr th {\n",
       "        vertical-align: top;\n",
       "    }\n",
       "\n",
       "    .dataframe thead th {\n",
       "        text-align: right;\n",
       "    }\n",
       "</style>\n",
       "<table border=\"1\" class=\"dataframe\">\n",
       "  <thead>\n",
       "    <tr style=\"text-align: right;\">\n",
       "      <th></th>\n",
       "      <th>Unnamed: 0</th>\n",
       "      <th>Country</th>\n",
       "      <th>Deaths / million</th>\n",
       "      <th>Deaths</th>\n",
       "      <th>Cases</th>\n",
       "    </tr>\n",
       "  </thead>\n",
       "  <tbody>\n",
       "    <tr>\n",
       "      <th>0</th>\n",
       "      <td>NaN</td>\n",
       "      <td>World[a]</td>\n",
       "      <td>830</td>\n",
       "      <td>6568987</td>\n",
       "      <td>625133548</td>\n",
       "    </tr>\n",
       "    <tr>\n",
       "      <th>1</th>\n",
       "      <td>NaN</td>\n",
       "      <td>Peru</td>\n",
       "      <td>6432</td>\n",
       "      <td>216877</td>\n",
       "      <td>4150737</td>\n",
       "    </tr>\n",
       "    <tr>\n",
       "      <th>2</th>\n",
       "      <td>NaN</td>\n",
       "      <td>Bulgaria</td>\n",
       "      <td>5488</td>\n",
       "      <td>37795</td>\n",
       "      <td>1271228</td>\n",
       "    </tr>\n",
       "    <tr>\n",
       "      <th>3</th>\n",
       "      <td>NaN</td>\n",
       "      <td>Bosnia and Herzegovina</td>\n",
       "      <td>4940</td>\n",
       "      <td>16160</td>\n",
       "      <td>399499</td>\n",
       "    </tr>\n",
       "    <tr>\n",
       "      <th>4</th>\n",
       "      <td>NaN</td>\n",
       "      <td>Hungary</td>\n",
       "      <td>4910</td>\n",
       "      <td>47680</td>\n",
       "      <td>2120543</td>\n",
       "    </tr>\n",
       "    <tr>\n",
       "      <th>...</th>\n",
       "      <td>...</td>\n",
       "      <td>...</td>\n",
       "      <td>...</td>\n",
       "      <td>...</td>\n",
       "      <td>...</td>\n",
       "    </tr>\n",
       "    <tr>\n",
       "      <th>216</th>\n",
       "      <td>NaN</td>\n",
       "      <td>Falkland Islands</td>\n",
       "      <td>—</td>\n",
       "      <td>—</td>\n",
       "      <td>1930</td>\n",
       "    </tr>\n",
       "    <tr>\n",
       "      <th>217</th>\n",
       "      <td>NaN</td>\n",
       "      <td>Vatican City</td>\n",
       "      <td>—</td>\n",
       "      <td>0</td>\n",
       "      <td>29</td>\n",
       "    </tr>\n",
       "    <tr>\n",
       "      <th>218</th>\n",
       "      <td>NaN</td>\n",
       "      <td>Saint Helena, Ascension and Tristan da Cunha</td>\n",
       "      <td>—</td>\n",
       "      <td>—</td>\n",
       "      <td>2007</td>\n",
       "    </tr>\n",
       "    <tr>\n",
       "      <th>219</th>\n",
       "      <td>NaN</td>\n",
       "      <td>Tuvalu</td>\n",
       "      <td>—</td>\n",
       "      <td>—</td>\n",
       "      <td>20</td>\n",
       "    </tr>\n",
       "    <tr>\n",
       "      <th>220</th>\n",
       "      <td>.mw-parser-output .reflist{font-size:90%;margi...</td>\n",
       "      <td>.mw-parser-output .reflist{font-size:90%;margi...</td>\n",
       "      <td>.mw-parser-output .reflist{font-size:90%;margi...</td>\n",
       "      <td>.mw-parser-output .reflist{font-size:90%;margi...</td>\n",
       "      <td>.mw-parser-output .reflist{font-size:90%;margi...</td>\n",
       "    </tr>\n",
       "  </tbody>\n",
       "</table>\n",
       "<p>221 rows × 5 columns</p>\n",
       "</div>"
      ],
      "text/plain": [
       "                                            Unnamed: 0  \\\n",
       "0                                                  NaN   \n",
       "1                                                  NaN   \n",
       "2                                                  NaN   \n",
       "3                                                  NaN   \n",
       "4                                                  NaN   \n",
       "..                                                 ...   \n",
       "216                                                NaN   \n",
       "217                                                NaN   \n",
       "218                                                NaN   \n",
       "219                                                NaN   \n",
       "220  .mw-parser-output .reflist{font-size:90%;margi...   \n",
       "\n",
       "                                               Country  \\\n",
       "0                                             World[a]   \n",
       "1                                                 Peru   \n",
       "2                                             Bulgaria   \n",
       "3                               Bosnia and Herzegovina   \n",
       "4                                              Hungary   \n",
       "..                                                 ...   \n",
       "216                                   Falkland Islands   \n",
       "217                                       Vatican City   \n",
       "218       Saint Helena, Ascension and Tristan da Cunha   \n",
       "219                                             Tuvalu   \n",
       "220  .mw-parser-output .reflist{font-size:90%;margi...   \n",
       "\n",
       "                                      Deaths / million  \\\n",
       "0                                                  830   \n",
       "1                                                 6432   \n",
       "2                                                 5488   \n",
       "3                                                 4940   \n",
       "4                                                 4910   \n",
       "..                                                 ...   \n",
       "216                                                  —   \n",
       "217                                                  —   \n",
       "218                                                  —   \n",
       "219                                                  —   \n",
       "220  .mw-parser-output .reflist{font-size:90%;margi...   \n",
       "\n",
       "                                                Deaths  \\\n",
       "0                                              6568987   \n",
       "1                                               216877   \n",
       "2                                                37795   \n",
       "3                                                16160   \n",
       "4                                                47680   \n",
       "..                                                 ...   \n",
       "216                                                  —   \n",
       "217                                                  0   \n",
       "218                                                  —   \n",
       "219                                                  —   \n",
       "220  .mw-parser-output .reflist{font-size:90%;margi...   \n",
       "\n",
       "                                                 Cases  \n",
       "0                                            625133548  \n",
       "1                                              4150737  \n",
       "2                                              1271228  \n",
       "3                                               399499  \n",
       "4                                              2120543  \n",
       "..                                                 ...  \n",
       "216                                               1930  \n",
       "217                                                 29  \n",
       "218                                               2007  \n",
       "219                                                 20  \n",
       "220  .mw-parser-output .reflist{font-size:90%;margi...  \n",
       "\n",
       "[221 rows x 5 columns]"
      ]
     },
     "execution_count": 40,
     "metadata": {},
     "output_type": "execute_result"
    }
   ],
   "source": [
    "df4[12]"
   ]
  },
  {
   "cell_type": "code",
   "execution_count": null,
   "id": "20fd25d7",
   "metadata": {},
   "outputs": [],
   "source": []
  },
  {
   "cell_type": "code",
   "execution_count": 46,
   "id": "0c55e417",
   "metadata": {},
   "outputs": [],
   "source": [
    "py_dict = {\n",
    "    'name': ['a','b','c',None],\n",
    "    'id':[54,75,35,75],\n",
    "    'age':[43,54,24,64]\n",
    "}"
   ]
  },
  {
   "cell_type": "code",
   "execution_count": 47,
   "id": "ee7ab6ca",
   "metadata": {},
   "outputs": [],
   "source": [
    "df5 = pd.DataFrame(py_dict)"
   ]
  },
  {
   "cell_type": "code",
   "execution_count": 48,
   "id": "8e3bfdcc",
   "metadata": {},
   "outputs": [
    {
     "data": {
      "text/html": [
       "<div>\n",
       "<style scoped>\n",
       "    .dataframe tbody tr th:only-of-type {\n",
       "        vertical-align: middle;\n",
       "    }\n",
       "\n",
       "    .dataframe tbody tr th {\n",
       "        vertical-align: top;\n",
       "    }\n",
       "\n",
       "    .dataframe thead th {\n",
       "        text-align: right;\n",
       "    }\n",
       "</style>\n",
       "<table border=\"1\" class=\"dataframe\">\n",
       "  <thead>\n",
       "    <tr style=\"text-align: right;\">\n",
       "      <th></th>\n",
       "      <th>name</th>\n",
       "      <th>id</th>\n",
       "      <th>age</th>\n",
       "    </tr>\n",
       "  </thead>\n",
       "  <tbody>\n",
       "    <tr>\n",
       "      <th>0</th>\n",
       "      <td>a</td>\n",
       "      <td>54</td>\n",
       "      <td>43</td>\n",
       "    </tr>\n",
       "    <tr>\n",
       "      <th>1</th>\n",
       "      <td>b</td>\n",
       "      <td>75</td>\n",
       "      <td>54</td>\n",
       "    </tr>\n",
       "    <tr>\n",
       "      <th>2</th>\n",
       "      <td>c</td>\n",
       "      <td>35</td>\n",
       "      <td>24</td>\n",
       "    </tr>\n",
       "    <tr>\n",
       "      <th>3</th>\n",
       "      <td>None</td>\n",
       "      <td>75</td>\n",
       "      <td>64</td>\n",
       "    </tr>\n",
       "  </tbody>\n",
       "</table>\n",
       "</div>"
      ],
      "text/plain": [
       "   name  id  age\n",
       "0     a  54   43\n",
       "1     b  75   54\n",
       "2     c  35   24\n",
       "3  None  75   64"
      ]
     },
     "execution_count": 48,
     "metadata": {},
     "output_type": "execute_result"
    }
   ],
   "source": [
    "df5"
   ]
  },
  {
   "cell_type": "code",
   "execution_count": 49,
   "id": "adf5f239",
   "metadata": {},
   "outputs": [],
   "source": [
    "#list of tuple --> dataframe"
   ]
  },
  {
   "cell_type": "code",
   "execution_count": 50,
   "id": "1712d2d2",
   "metadata": {},
   "outputs": [],
   "source": [
    "\n",
    "p = [(1,2,3,4,5),\n",
    "    (24234,46,546,354,57,46),\n",
    "    ('fsdf','safsdf','asfsd','asdfsd','fdsf')]"
   ]
  },
  {
   "cell_type": "code",
   "execution_count": 51,
   "id": "dd982d84",
   "metadata": {},
   "outputs": [
    {
     "data": {
      "text/plain": [
       "[(1, 2, 3, 4, 5),\n",
       " (24234, 46, 546, 354, 57, 46),\n",
       " ('fsdf', 'safsdf', 'asfsd', 'asdfsd', 'fdsf')]"
      ]
     },
     "execution_count": 51,
     "metadata": {},
     "output_type": "execute_result"
    }
   ],
   "source": [
    "p"
   ]
  },
  {
   "cell_type": "code",
   "execution_count": 59,
   "id": "6afdf97a",
   "metadata": {},
   "outputs": [],
   "source": [
    "df6 = pd.DataFrame(p,columns=['a','b','c','d','e','f'])"
   ]
  },
  {
   "cell_type": "code",
   "execution_count": 60,
   "id": "4427379d",
   "metadata": {},
   "outputs": [
    {
     "data": {
      "text/html": [
       "<div>\n",
       "<style scoped>\n",
       "    .dataframe tbody tr th:only-of-type {\n",
       "        vertical-align: middle;\n",
       "    }\n",
       "\n",
       "    .dataframe tbody tr th {\n",
       "        vertical-align: top;\n",
       "    }\n",
       "\n",
       "    .dataframe thead th {\n",
       "        text-align: right;\n",
       "    }\n",
       "</style>\n",
       "<table border=\"1\" class=\"dataframe\">\n",
       "  <thead>\n",
       "    <tr style=\"text-align: right;\">\n",
       "      <th></th>\n",
       "      <th>a</th>\n",
       "      <th>b</th>\n",
       "      <th>c</th>\n",
       "      <th>d</th>\n",
       "      <th>e</th>\n",
       "      <th>f</th>\n",
       "    </tr>\n",
       "  </thead>\n",
       "  <tbody>\n",
       "    <tr>\n",
       "      <th>0</th>\n",
       "      <td>1</td>\n",
       "      <td>2</td>\n",
       "      <td>3</td>\n",
       "      <td>4</td>\n",
       "      <td>5</td>\n",
       "      <td>NaN</td>\n",
       "    </tr>\n",
       "    <tr>\n",
       "      <th>1</th>\n",
       "      <td>24234</td>\n",
       "      <td>46</td>\n",
       "      <td>546</td>\n",
       "      <td>354</td>\n",
       "      <td>57</td>\n",
       "      <td>46.0</td>\n",
       "    </tr>\n",
       "    <tr>\n",
       "      <th>2</th>\n",
       "      <td>fsdf</td>\n",
       "      <td>safsdf</td>\n",
       "      <td>asfsd</td>\n",
       "      <td>asdfsd</td>\n",
       "      <td>fdsf</td>\n",
       "      <td>NaN</td>\n",
       "    </tr>\n",
       "  </tbody>\n",
       "</table>\n",
       "</div>"
      ],
      "text/plain": [
       "       a       b      c       d     e     f\n",
       "0      1       2      3       4     5   NaN\n",
       "1  24234      46    546     354    57  46.0\n",
       "2   fsdf  safsdf  asfsd  asdfsd  fdsf   NaN"
      ]
     },
     "execution_count": 60,
     "metadata": {},
     "output_type": "execute_result"
    }
   ],
   "source": [
    "df6"
   ]
  },
  {
   "cell_type": "code",
   "execution_count": 62,
   "id": "b8c1a8c4",
   "metadata": {},
   "outputs": [
    {
     "data": {
      "text/html": [
       "<div>\n",
       "<style scoped>\n",
       "    .dataframe tbody tr th:only-of-type {\n",
       "        vertical-align: middle;\n",
       "    }\n",
       "\n",
       "    .dataframe tbody tr th {\n",
       "        vertical-align: top;\n",
       "    }\n",
       "\n",
       "    .dataframe thead th {\n",
       "        text-align: right;\n",
       "    }\n",
       "</style>\n",
       "<table border=\"1\" class=\"dataframe\">\n",
       "  <thead>\n",
       "    <tr style=\"text-align: right;\">\n",
       "      <th></th>\n",
       "      <th>name</th>\n",
       "      <th>age</th>\n",
       "    </tr>\n",
       "    <tr>\n",
       "      <th>id</th>\n",
       "      <th></th>\n",
       "      <th></th>\n",
       "    </tr>\n",
       "  </thead>\n",
       "  <tbody>\n",
       "    <tr>\n",
       "      <th>54</th>\n",
       "      <td>a</td>\n",
       "      <td>43</td>\n",
       "    </tr>\n",
       "    <tr>\n",
       "      <th>75</th>\n",
       "      <td>b</td>\n",
       "      <td>54</td>\n",
       "    </tr>\n",
       "    <tr>\n",
       "      <th>35</th>\n",
       "      <td>c</td>\n",
       "      <td>24</td>\n",
       "    </tr>\n",
       "    <tr>\n",
       "      <th>75</th>\n",
       "      <td>None</td>\n",
       "      <td>64</td>\n",
       "    </tr>\n",
       "  </tbody>\n",
       "</table>\n",
       "</div>"
      ],
      "text/plain": [
       "    name  age\n",
       "id           \n",
       "54     a   43\n",
       "75     b   54\n",
       "35     c   24\n",
       "75  None   64"
      ]
     },
     "execution_count": 62,
     "metadata": {},
     "output_type": "execute_result"
    }
   ],
   "source": [
    "read operation --> "
   ]
  },
  {
   "cell_type": "code",
   "execution_count": null,
   "id": "35727061",
   "metadata": {},
   "outputs": [],
   "source": [
    "df6 = pd.read_json('https://api.sampleapis.com/coffee/iced')"
   ]
  },
  {
   "cell_type": "code",
   "execution_count": null,
   "id": "c416341b",
   "metadata": {},
   "outputs": [],
   "source": [
    "django - api -- consume ---> "
   ]
  }
 ],
 "metadata": {
  "kernelspec": {
   "display_name": "Python 3 (ipykernel)",
   "language": "python",
   "name": "python3"
  },
  "language_info": {
   "codemirror_mode": {
    "name": "ipython",
    "version": 3
   },
   "file_extension": ".py",
   "mimetype": "text/x-python",
   "name": "python",
   "nbconvert_exporter": "python",
   "pygments_lexer": "ipython3",
   "version": "3.9.13"
  }
 },
 "nbformat": 4,
 "nbformat_minor": 5
}
